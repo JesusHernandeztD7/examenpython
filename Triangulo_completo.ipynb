{
  "nbformat": 4,
  "nbformat_minor": 0,
  "metadata": {
    "colab": {
      "provenance": [],
      "authorship_tag": "ABX9TyOiPBiVDyfwwXWtgDgYyrUn",
      "include_colab_link": true
    },
    "kernelspec": {
      "name": "python3",
      "display_name": "Python 3"
    },
    "language_info": {
      "name": "python"
    }
  },
  "cells": [
    {
      "cell_type": "markdown",
      "metadata": {
        "id": "view-in-github",
        "colab_type": "text"
      },
      "source": [
        "<a href=\"https://colab.research.google.com/github/JesusHernandeztD7/examenpython/blob/main/Triangulo_completo.ipynb\" target=\"_parent\"><img src=\"https://colab.research.google.com/assets/colab-badge.svg\" alt=\"Open In Colab\"/></a>"
      ]
    },
    {
      "cell_type": "code",
      "execution_count": 11,
      "metadata": {
        "colab": {
          "base_uri": "https://localhost:8080/"
        },
        "id": "qJLzvlf-9Scp",
        "outputId": "f10b96d6-6d70-40b6-ec9c-5861e9feade6"
      },
      "outputs": [
        {
          "output_type": "stream",
          "name": "stdout",
          "text": [
            "1\n",
            "2\n"
          ]
        }
      ],
      "source": [
        "a=[1, 2, 3, 4]\n",
        "for i in a:\n",
        "  if i<=2:\n",
        "   print(i)\n",
        "\n"
      ]
    },
    {
      "cell_type": "code",
      "source": [
        "# Bueno primero que nada se crea una lista llamada people en la cual se guarda el nombre Carter David y yo con sus respectivos números de teléfono\n",
        "people = [\n",
        "    {\"name\": \"Carter\", \"number\": \"+1-617-495-1000\"},\n",
        "    {\"name\": \"David\", \"number\": \"+1-617-495-1000\"},\n",
        "    {\"name\": \"John\", \"number\": \"+1-949-468-2750\"}\n",
        "]\n",
        "#Luego Leo el nombre lo guardo en la variable name\n",
        "name = input(\"Name: \")\n",
        "\n",
        "#Luego aplico el ciclo For  y recorro la lista people y pongo un condicional if   que si la variable person al recorrer la lista es igual al nombre que ingresé entonces\n",
        "for person in people:\n",
        "  #Y que posteriormente en la variable numberg encuentre en la lista el número de la persona, Y que finalmente imprima escribe person  e imprima  el número   del a persona\n",
        "    if person[\"name\"] == name:\n",
        "        number = person[\"number\"]\n",
        "        print(f\"Found {number}\")\n",
        "        break\n",
        "else:\n",
        "  # de lo contrario diga no encontrado\n",
        "    print(\"Not found\")\n"
      ],
      "metadata": {
        "colab": {
          "base_uri": "https://localhost:8080/"
        },
        "id": "A7DMq3Xl7OtA",
        "outputId": "04a1372b-73a7-4863-9abe-5362a84f8bad"
      },
      "execution_count": 12,
      "outputs": [
        {
          "output_type": "stream",
          "name": "stdout",
          "text": [
            "Name: John\n",
            "Found +1-949-468-2750\n"
          ]
        }
      ]
    }
  ]
}